{
  "cells": [
    {
      "cell_type": "code",
      "execution_count": 33,
      "id": "363711e4",
      "metadata": {
        "id": "363711e4"
      },
      "outputs": [],
      "source": [
        "import pandas as pd"
      ]
    },
    {
      "cell_type": "code",
      "execution_count": 34,
      "id": "564e2417",
      "metadata": {
        "id": "564e2417"
      },
      "outputs": [],
      "source": [
        "import numpy as np\n",
        "from sklearn import svm\n",
        "from sklearn.model_selection import train_test_split\n",
        "from sklearn import preprocessing\n",
        "from sklearn.preprocessing import LabelEncoder\n",
        "from sklearn.neural_network import MLPClassifier\n",
        "from sklearn.cluster import KMeans\n",
        "import warnings\n",
        "warnings.filterwarnings('ignore')"
      ]
    },
    {
      "cell_type": "code",
      "execution_count": 35,
      "id": "979ad2ba",
      "metadata": {
        "id": "979ad2ba"
      },
      "outputs": [],
      "source": [
        "dataset=pd.read_csv('Datarev.csv')"
      ]
    },
    {
      "cell_type": "code",
      "execution_count": 36,
      "id": "4f5e6192",
      "metadata": {
        "id": "4f5e6192"
      },
      "outputs": [],
      "source": [
        "dataset =dataset[['sCr', 'eGFR','HbA1c']]"
      ]
    },
    {
      "cell_type": "code",
      "execution_count": 37,
      "id": "ac3a2259",
      "metadata": {
        "id": "ac3a2259"
      },
      "outputs": [],
      "source": [
        "data_log = dataset[['sCr', 'eGFR','HbA1c']]\n",
        "data_log = data_log.astype(float)"
      ]
    },
    {
      "cell_type": "code",
      "execution_count": 38,
      "id": "d4eb6b2d",
      "metadata": {
        "id": "d4eb6b2d"
      },
      "outputs": [],
      "source": [
        "mean = data_log.mean(skipna=True)\n",
        "data_log = data_log.fillna(mean)"
      ]
    },
    {
      "cell_type": "code",
      "execution_count": 39,
      "id": "2e2e69f7",
      "metadata": {
        "id": "2e2e69f7"
      },
      "outputs": [],
      "source": [
        "#Standardization\n",
        "from sklearn.preprocessing import StandardScaler\n",
        "scaler = StandardScaler()\n",
        "scaler.fit(data_log)\n",
        "data_normalized = scaler.transform(data_log)\n",
        "data_normalized = pd.DataFrame(data_normalized, index = data_log.index, columns=data_log.columns)"
      ]
    },
    {
      "cell_type": "code",
      "execution_count": 40,
      "id": "925f47c9",
      "metadata": {
        "id": "925f47c9"
      },
      "outputs": [],
      "source": [
        "#Fit KMeans and use elbow method to choose the number of clusters\n",
        "import matplotlib.pyplot as plt\n",
        "import seaborn as sns\n",
        "from sklearn.cluster import KMeans\n",
        "\n",
        "sse = {}\n",
        "\n",
        "for k in range(1, 21):\n",
        "    kmeans = KMeans(n_clusters = k, random_state = 1)\n",
        "    kmeans.fit(data_normalized)\n",
        "    sse[k] = kmeans.inertia_"
      ]
    },
    {
      "cell_type": "code",
      "execution_count": 41,
      "id": "be6cc191",
      "metadata": {
        "id": "be6cc191"
      },
      "outputs": [],
      "source": [
        "kmeans = KMeans(n_clusters=4, random_state=1)\n",
        "kmeans.fit(data_normalized)\n",
        "cluster_labels = kmeans.labels_\n",
        "\n",
        "data_rfm = data_normalized.assign(Cluster = cluster_labels)"
      ]
    },
    {
      "cell_type": "code",
      "execution_count": 42,
      "id": "087f0126",
      "metadata": {
        "colab": {
          "base_uri": "https://localhost:8080/",
          "height": 322
        },
        "id": "087f0126",
        "outputId": "d5a961a1-3af2-4b43-a410-216e2cb2a060"
      },
      "outputs": [
        {
          "output_type": "error",
          "ename": "TypeError",
          "evalue": "'numpy.ndarray' object is not callable",
          "traceback": [
            "\u001b[0;31m---------------------------------------------------------------------------\u001b[0m",
            "\u001b[0;31mTypeError\u001b[0m                                 Traceback (most recent call last)",
            "\u001b[0;32m<ipython-input-42-08a7f5b764c8>\u001b[0m in \u001b[0;36m<cell line: 35>\u001b[0;34m()\u001b[0m\n\u001b[1;32m     34\u001b[0m \u001b[0;34m\u001b[0m\u001b[0m\n\u001b[1;32m     35\u001b[0m \u001b[0;32mif\u001b[0m \u001b[0m__name__\u001b[0m \u001b[0;34m==\u001b[0m \u001b[0;34m\"__main__\"\u001b[0m\u001b[0;34m:\u001b[0m\u001b[0;34m\u001b[0m\u001b[0;34m\u001b[0m\u001b[0m\n\u001b[0;32m---> 36\u001b[0;31m     \u001b[0mmain\u001b[0m\u001b[0;34m(\u001b[0m\u001b[0;34m)\u001b[0m\u001b[0;34m\u001b[0m\u001b[0;34m\u001b[0m\u001b[0m\n\u001b[0m",
            "\u001b[0;32m<ipython-input-42-08a7f5b764c8>\u001b[0m in \u001b[0;36mmain\u001b[0;34m()\u001b[0m\n\u001b[1;32m     22\u001b[0m \u001b[0;34m\u001b[0m\u001b[0m\n\u001b[1;32m     23\u001b[0m     \u001b[0;31m# Get user inputs\u001b[0m\u001b[0;34m\u001b[0m\u001b[0;34m\u001b[0m\u001b[0m\n\u001b[0;32m---> 24\u001b[0;31m     \u001b[0minput1\u001b[0m\u001b[0;34m,\u001b[0m \u001b[0minput2\u001b[0m\u001b[0;34m,\u001b[0m\u001b[0minput3\u001b[0m \u001b[0;34m=\u001b[0m \u001b[0mget_user_inputs\u001b[0m\u001b[0;34m(\u001b[0m\u001b[0;34m)\u001b[0m\u001b[0;34m\u001b[0m\u001b[0;34m\u001b[0m\u001b[0m\n\u001b[0m\u001b[1;32m     25\u001b[0m     \u001b[0minput_data\u001b[0m \u001b[0;34m=\u001b[0m \u001b[0mnp\u001b[0m\u001b[0;34m.\u001b[0m\u001b[0marray\u001b[0m\u001b[0;34m(\u001b[0m\u001b[0;34m[\u001b[0m\u001b[0minput1\u001b[0m\u001b[0;34m,\u001b[0m \u001b[0minput2\u001b[0m\u001b[0;34m,\u001b[0m\u001b[0minput3\u001b[0m\u001b[0;34m]\u001b[0m\u001b[0;34m)\u001b[0m\u001b[0;34m\u001b[0m\u001b[0;34m\u001b[0m\u001b[0m\n\u001b[1;32m     26\u001b[0m \u001b[0;34m\u001b[0m\u001b[0m\n",
            "\u001b[0;32m<ipython-input-42-08a7f5b764c8>\u001b[0m in \u001b[0;36mget_user_inputs\u001b[0;34m()\u001b[0m\n\u001b[1;32m      3\u001b[0m \u001b[0;34m\u001b[0m\u001b[0m\n\u001b[1;32m      4\u001b[0m \u001b[0;32mdef\u001b[0m \u001b[0mget_user_inputs\u001b[0m\u001b[0;34m(\u001b[0m\u001b[0;34m)\u001b[0m\u001b[0;34m:\u001b[0m\u001b[0;34m\u001b[0m\u001b[0;34m\u001b[0m\u001b[0m\n\u001b[0;32m----> 5\u001b[0;31m     \u001b[0minput1\u001b[0m \u001b[0;34m=\u001b[0m \u001b[0mfloat\u001b[0m\u001b[0;34m(\u001b[0m\u001b[0minput\u001b[0m\u001b[0;34m(\u001b[0m\u001b[0;34m\"Enter the Value for sCr: \"\u001b[0m\u001b[0;34m)\u001b[0m\u001b[0;34m)\u001b[0m\u001b[0;34m\u001b[0m\u001b[0;34m\u001b[0m\u001b[0m\n\u001b[0m\u001b[1;32m      6\u001b[0m     \u001b[0minput2\u001b[0m \u001b[0;34m=\u001b[0m \u001b[0mfloat\u001b[0m\u001b[0;34m(\u001b[0m\u001b[0minput\u001b[0m\u001b[0;34m(\u001b[0m\u001b[0;34m\"Enter the value for eFGR: \"\u001b[0m\u001b[0;34m)\u001b[0m\u001b[0;34m)\u001b[0m\u001b[0;34m\u001b[0m\u001b[0;34m\u001b[0m\u001b[0m\n\u001b[1;32m      7\u001b[0m     \u001b[0minput3\u001b[0m \u001b[0;34m=\u001b[0m \u001b[0mfloat\u001b[0m\u001b[0;34m(\u001b[0m\u001b[0minput\u001b[0m\u001b[0;34m(\u001b[0m\u001b[0;34m\"Enter the value for HbA1c: \"\u001b[0m\u001b[0;34m)\u001b[0m\u001b[0;34m)\u001b[0m\u001b[0;34m\u001b[0m\u001b[0;34m\u001b[0m\u001b[0m\n",
            "\u001b[0;31mTypeError\u001b[0m: 'numpy.ndarray' object is not callable"
          ]
        }
      ],
      "source": [
        "kmeans_model = kmeans\n",
        "scalerr = scaler\n",
        "\n",
        "def get_user_inputs():\n",
        "    input1 = float(input(\"Enter the Value for sCr: \"))\n",
        "    input2 = float(input(\"Enter the value for eFGR: \"))\n",
        "    input3 = float(input(\"Enter the value for HbA1c: \"))\n",
        "    return input1, input2, input3\n",
        "\n",
        "def scale_input(scaler, input_data):\n",
        "    scaled_input = scalerr.transform([input_data])\n",
        "    return scaled_input\n",
        "\n",
        "def predict_cluster(kmeans_model, scaled_input):\n",
        "    predicted_cluster = kmeans_model.predict(scaled_input)\n",
        "    return predicted_cluster[0]\n",
        "\n",
        "def main():\n",
        "    if kmeans_model is None or scaler is None:\n",
        "        print(\"Please load the pre-trained model and scaler.\")\n",
        "        return\n",
        "\n",
        "    # Get user inputs\n",
        "    input1, input2,input3 = get_user_inputs()\n",
        "    input_data = np.array([input1, input2,input3])\n",
        "\n",
        "    # Scale user input\n",
        "    scaled_input = scale_input(scaler, input_data)\n",
        "\n",
        "    # Predict cluster\n",
        "    predicted_cluster = predict_cluster(kmeans_model, scaled_input)\n",
        "\n",
        "    print(\"Predicted cluster number:\", predicted_cluster)\n",
        "\n",
        "if __name__ == \"__main__\":\n",
        "    main()\n"
      ]
    },
    {
      "cell_type": "code",
      "execution_count": 43,
      "id": "f6c259d4",
      "metadata": {
        "id": "f6c259d4"
      },
      "outputs": [],
      "source": [
        "import pickle\n",
        "\n",
        "# Assuming kmeans is your trained KMeans model\n",
        "with open('kmeans_model.pkl', 'wb') as f:\n",
        "    pickle.dump(kmeans, f)"
      ]
    },
    {
      "cell_type": "code",
      "source": [
        "input = scalerr.transform([np.array([1.68, 52, 71])])\n",
        "\n",
        "with open('kmeans_model.pkl', 'rb') as f:\n",
        "    kmeans_mod = pickle.load(f)\n",
        "\n",
        "predict = kmeans_mod.predict(input)\n",
        "print(predict)"
      ],
      "metadata": {
        "colab": {
          "base_uri": "https://localhost:8080/"
        },
        "id": "lbGAMFLHYRiS",
        "outputId": "6fa1c25e-63f7-497e-b53b-16672cb9fb49"
      },
      "id": "lbGAMFLHYRiS",
      "execution_count": 45,
      "outputs": [
        {
          "output_type": "stream",
          "name": "stdout",
          "text": [
            "[2]\n"
          ]
        }
      ]
    }
  ],
  "metadata": {
    "kernelspec": {
      "display_name": "Python 3 (ipykernel)",
      "language": "python",
      "name": "python3"
    },
    "language_info": {
      "codemirror_mode": {
        "name": "ipython",
        "version": 3
      },
      "file_extension": ".py",
      "mimetype": "text/x-python",
      "name": "python",
      "nbconvert_exporter": "python",
      "pygments_lexer": "ipython3",
      "version": "3.9.7"
    },
    "colab": {
      "provenance": []
    }
  },
  "nbformat": 4,
  "nbformat_minor": 5
}